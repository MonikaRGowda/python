{
 "cells": [
  {
   "cell_type": "code",
   "execution_count": 5,
   "id": "86a936e7-e081-4788-a1e2-ab9fa1363f65",
   "metadata": {},
   "outputs": [
    {
     "name": "stdout",
     "output_type": "stream",
     "text": [
      "1 2 3 4 5 6 7 "
     ]
    }
   ],
   "source": [
    "graph={1:[2,3],2:[4,5],3:[6],4:[],5:[7],6:[],7:[]}\n",
    "visited=[]\n",
    "queue=[]\n",
    "def bfs(node):\n",
    "    queue.append(node)\n",
    "    visited.append(node)\n",
    "    while queue:\n",
    "        m=queue.pop(0)\n",
    "        print(m,end=\" \")\n",
    "        for n in graph[m]:\n",
    "            if n not in visited:\n",
    "                queue.append(n)\n",
    "                visited.append(n)\n",
    "bfs(1)"
   ]
  },
  {
   "cell_type": "code",
   "execution_count": 11,
   "id": "20bb9517-bb90-434c-b4c1-115ba34fbc1a",
   "metadata": {},
   "outputs": [
    {
     "name": "stdout",
     "output_type": "stream",
     "text": [
      "1 2 4 5 7 3 6 "
     ]
    }
   ],
   "source": [
    "visited=[]\n",
    "def dfs(visited,node):\n",
    "    if node not in visited:\n",
    "        print(node,end=\" \")\n",
    "        visited.append(node)\n",
    "        for n in graph[node]:\n",
    "            dfs(visited,n)\n",
    "dfs(visited,1)"
   ]
  },
  {
   "cell_type": "code",
   "execution_count": 13,
   "id": "7b5b3a49-221a-4802-9efc-0cc4125d6e76",
   "metadata": {},
   "outputs": [
    {
     "name": "stdout",
     "output_type": "stream",
     "text": [
      "Move disk  1  from  a  to  c\n",
      "Move disk  2  from  a  to  b\n",
      "Move disk  1  from  c  to  b\n",
      "Move disk  3  from  a  to  c\n",
      "Move disk  1  from  b  to  a\n",
      "Move disk  2  from  b  to  c\n",
      "Move disk  1  from  a  to  c\n"
     ]
    }
   ],
   "source": [
    "def tower(s,d,t,n):\n",
    "    if n>=1:\n",
    "        tower(s,t,d,n-1)\n",
    "        print(\"Move disk \",n,\" from \",s,\" to \",d)\n",
    "        tower(t,d,s,n-1)\n",
    "tower('a','c','b',3)"
   ]
  },
  {
   "cell_type": "code",
   "execution_count": 16,
   "id": "5131f6c2-4ebe-4fac-97c9-0b5b7bfd825d",
   "metadata": {},
   "outputs": [
    {
     "name": "stdin",
     "output_type": "stream",
     "text": [
      "Enter size of board: 3\n"
     ]
    },
    {
     "name": "stdout",
     "output_type": "stream",
     "text": [
      " | | \n",
      "______\n",
      " | | \n",
      "______\n",
      " | | \n",
      "______\n"
     ]
    },
    {
     "name": "stdin",
     "output_type": "stream",
     "text": [
      "Enter row: 1\n",
      "Enter col: 1\n"
     ]
    },
    {
     "name": "stdout",
     "output_type": "stream",
     "text": [
      " | | \n",
      "______\n",
      " |X| \n",
      "______\n",
      " | | \n",
      "______\n"
     ]
    },
    {
     "name": "stdin",
     "output_type": "stream",
     "text": [
      "Enter row: 0\n",
      "Enter col: 1\n"
     ]
    },
    {
     "name": "stdout",
     "output_type": "stream",
     "text": [
      " |O| \n",
      "______\n",
      " |X| \n",
      "______\n",
      " | | \n",
      "______\n"
     ]
    },
    {
     "name": "stdin",
     "output_type": "stream",
     "text": [
      "Enter row: 0\n",
      "Enter col: 0\n"
     ]
    },
    {
     "name": "stdout",
     "output_type": "stream",
     "text": [
      "X|O| \n",
      "______\n",
      " |X| \n",
      "______\n",
      " | | \n",
      "______\n"
     ]
    },
    {
     "name": "stdin",
     "output_type": "stream",
     "text": [
      "Enter row: 1\n",
      "Enter col: 0\n"
     ]
    },
    {
     "name": "stdout",
     "output_type": "stream",
     "text": [
      "X|O| \n",
      "______\n",
      "O|X| \n",
      "______\n",
      " | | \n",
      "______\n"
     ]
    },
    {
     "name": "stdin",
     "output_type": "stream",
     "text": [
      "Enter row: 2\n",
      "Enter col: 2\n"
     ]
    },
    {
     "name": "stdout",
     "output_type": "stream",
     "text": [
      "X|O| \n",
      "______\n",
      "O|X| \n",
      "______\n",
      " | |X\n",
      "______\n",
      "Player  X  won!\n"
     ]
    }
   ],
   "source": [
    "def write(size):\n",
    "    return [[' ' for i in range(size)] for j in range(size)]\n",
    "def draw(board):\n",
    "    size=len(board)\n",
    "    for row in board:\n",
    "        print('|'.join(row))\n",
    "        print('_'*(size*2))\n",
    "def iswin(board,player):\n",
    "    size=len(board)\n",
    "    for i in range(size):\n",
    "        row=True\n",
    "        for j in range(size):\n",
    "            if board[i][j]!=player:\n",
    "                row=False\n",
    "                break\n",
    "        if row:\n",
    "            return True\n",
    "    for i in range(size):\n",
    "        col=True\n",
    "        for j in range(size):\n",
    "            if board[j][i]!=player:\n",
    "                col=False\n",
    "                break\n",
    "        if col:\n",
    "            return True\n",
    "    diag=True\n",
    "    for i in range(size):\n",
    "        if board[i][i]!=player:\n",
    "            diag=False\n",
    "            break\n",
    "    if diag:\n",
    "        return True\n",
    "    diag=True\n",
    "    for i in range(size):\n",
    "        if board[i][size-i-1]!=player:\n",
    "            diag=False\n",
    "            break\n",
    "    if diag:\n",
    "        return True\n",
    "def isdraw(board):\n",
    "    size=len(board)\n",
    "    for i in range(size):\n",
    "        for j in range(size):\n",
    "            if board[i][j]==' ':\n",
    "                return False\n",
    "    return True\n",
    "def move(board,player):\n",
    "    size=len(board)\n",
    "    row=int(input(\"Enter row:\"))\n",
    "    col=int(input(\"Enter col:\"))\n",
    "    if 0<=row<size and 0<=col<size and board[row][col]==' ':\n",
    "        board[row][col]=player\n",
    "def play():\n",
    "    size=int(input(\"Enter size of board:\"))\n",
    "    board=write(size)\n",
    "    current='X'\n",
    "    draw(board)\n",
    "    while True:\n",
    "        move(board,current)\n",
    "        draw(board)\n",
    "        if iswin(board,current):\n",
    "            print('Player ',current,\" won!\")\n",
    "            break\n",
    "        if isdraw(board):\n",
    "            print(\"It's a draw\")\n",
    "            break\n",
    "        if current=='X':\n",
    "            current='O' \n",
    "        else: \n",
    "            current='X'\n",
    "if __name__=='__main__':\n",
    "    play()"
   ]
  },
  {
   "cell_type": "code",
   "execution_count": 3,
   "id": "571dd6a3-3e3c-4433-85c6-66aa09b6c4c3",
   "metadata": {},
   "outputs": [
    {
     "name": "stdout",
     "output_type": "stream",
     "text": [
      "step  1\n",
      "1   2   3\n",
      "4   0   5\n",
      "7   8   6\n",
      "\n",
      "step  2\n",
      "1   2   3\n",
      "4   5   0\n",
      "7   8   6\n",
      "\n",
      "step  3\n",
      "1   2   3\n",
      "4   5   6\n",
      "7   8   0\n",
      "\n"
     ]
    }
   ],
   "source": [
    "def getnext(board):\n",
    "    moves={0:[1,3],1:[0,2,4],2:[1,5],3:[0,4,6],4:[1,3,5,7],5:[2,4,8],6:[3,7],7:[6,4,8],8:[7,5]}\n",
    "    pos=board.index(0)\n",
    "    nextmove=[]\n",
    "    for move in moves[pos]:\n",
    "        nextm=list(board)\n",
    "        nextm[pos],nextm[move]=nextm[move],nextm[pos]\n",
    "        nextmove.append(tuple(nextm))\n",
    "    return nextmove\n",
    "def printstate(state):\n",
    "    for i in range(0,9,3):\n",
    "        print(state[i],' ',state[i+1],' ',state[i+2])\n",
    "    print()\n",
    "def printpath(state,parent):\n",
    "    path=[]\n",
    "    while state:\n",
    "        path.append(state)\n",
    "        state=parent[state]\n",
    "    path.reverse()\n",
    "    for i,state in enumerate(path):\n",
    "        print(\"step \",i+1)\n",
    "        printstate(state)\n",
    "def solve(initial):\n",
    "    goal=(1,2,3,4,5,6,7,8,0)\n",
    "    start=tuple(sum(initial,[]))\n",
    "    if(start==goal):\n",
    "        print(\"Goal found\")\n",
    "        return\n",
    "    queue=[(start,None)]\n",
    "    visited={start:0}\n",
    "    parent={start:None}\n",
    "    index=0\n",
    "    while index<len(queue):\n",
    "        current,_=queue[index]\n",
    "        index+=1\n",
    "        if current==goal:\n",
    "            printpath(current,parent)\n",
    "            return\n",
    "        for nexts in getnext(current):\n",
    "            if nexts not in visited:\n",
    "                visited[nexts]=visited[current]+1\n",
    "                queue.append((nexts,current))\n",
    "                parent[nexts]=current\n",
    "initial=[[1,2,3],[4,0,5],[7,8,6]]\n",
    "solve(initial)"
   ]
  },
  {
   "cell_type": "code",
   "execution_count": 19,
   "id": "a676ee65-1394-4f02-af9b-120c9199fd8c",
   "metadata": {},
   "outputs": [
    {
     "name": "stdout",
     "output_type": "stream",
     "text": [
      "Steps to reach the goal:\n",
      "0 , 0\n",
      "4 , 0\n",
      "4 , 3\n",
      "0 , 3\n",
      "3 , 0\n",
      "3 , 3\n",
      "4 , 2\n",
      "0 , 2\n"
     ]
    }
   ],
   "source": [
    "from collections import defaultdict \n",
    "jug1,jug2,goal=4,3,2\n",
    "visited=defaultdict(lambda:False)\n",
    "def water(amt1,amt2):\n",
    "    if (amt1==goal and amt2==0) or (amt2==goal and amt1==0):\n",
    "        print(amt1,\",\",amt2)\n",
    "        return True\n",
    "    if visited[(amt1,amt2)] ==False:\n",
    "        visited[(amt1,amt2)]=True\n",
    "        print(amt1,\",\",amt2)\n",
    "        return(water(amt1,0) or water(0,amt2) or  water(jug1,amt2) or water(amt1,jug2) or water(amt1+min((jug1-amt1),amt2),amt2-min((jug1-amt1),amt2)) or water(amt1-min((jug2-amt2),amt1),amt2+min((jug2-amt2),amt1)))\n",
    "    else:\n",
    "        return False\n",
    "print(\"Steps to reach the goal:\")\n",
    "found = water(0, 0)\n",
    "if not found:\n",
    "    print(\"No solution found.\")\n"
   ]
  },
  {
   "cell_type": "code",
   "execution_count": 4,
   "id": "e3dccade-036e-4b68-9a4a-7950ada7c8e2",
   "metadata": {},
   "outputs": [
    {
     "name": "stdout",
     "output_type": "stream",
     "text": [
      "Cost: 120\n"
     ]
    }
   ],
   "source": [
    "from itertools import permutations\n",
    "from sys import maxsize\n",
    "v=4\n",
    "def tps(graph,s):\n",
    "    vertex=[]\n",
    "    for i in range(v):\n",
    "        if i!=s:\n",
    "            vertex.append(i)\n",
    "    nextpm=permutations(vertex)\n",
    "    minc=maxsize\n",
    "    k=s\n",
    "    for i in nextpm:\n",
    "        current=0\n",
    "        for j in i:\n",
    "            current+=graph[k][j]\n",
    "            k=j\n",
    "        current+=graph[k][s]\n",
    "        minc=min(current,minc)\n",
    "    return minc\n",
    "graph=[[0,10,20,30],\n",
    "       [10,0,40,50],\n",
    "       [20,40,0,60],\n",
    "       [30,50,60,0]]\n",
    "print(\"Cost:\",tps(graph,0))"
   ]
  },
  {
   "cell_type": "code",
   "execution_count": 12,
   "id": "6bf3c028-a27a-45f7-a79d-4ea9e24a0bd8",
   "metadata": {},
   "outputs": [
    {
     "name": "stdout",
     "output_type": "stream",
     "text": [
      "Monkey move from door to corner\n",
      "Monkey move box from corner to centre\n",
      "Monkey climbs on box\n",
      "Monkey grabs banana\n",
      "Monkey got banana!\n"
     ]
    }
   ],
   "source": [
    "def dfs(state,visited):\n",
    "    monkey,box,banana,onbox,hasbanana=state\n",
    "    if hasbanana:\n",
    "        print(\"Monkey got banana!\")\n",
    "        return True\n",
    "    if state in visited:\n",
    "        return False\n",
    "    visited.add(state)\n",
    "    if not onbox and monkey!=box:\n",
    "        print(f\"Monkey move from {monkey} to {box}\")\n",
    "        new=(box,box,banana,onbox,hasbanana)\n",
    "        if dfs(new,visited):\n",
    "            return True\n",
    "    if not onbox and monkey==box and box!=banana:\n",
    "        print(f\"Monkey move box from {box} to {banana}\")\n",
    "        new=(banana,banana,banana,onbox,hasbanana)\n",
    "        if dfs(new,visited):\n",
    "            return True\n",
    "    if not onbox and monkey==box==banana:\n",
    "        print(f\"Monkey climbs on box\")\n",
    "        new=(monkey,box,banana,True,hasbanana)\n",
    "        if dfs(new,visited):\n",
    "            return True\n",
    "    if onbox and monkey==box==banana and not hasbanana:\n",
    "        print(f\"Monkey grabs banana\")\n",
    "        new=(monkey,box,banana,onbox,True)\n",
    "        if dfs(new,visited):\n",
    "            return True\n",
    "visited=set()\n",
    "state=('door','corner','centre',False,False)\n",
    "if not dfs(state,visited):\n",
    "    print(\"Monkey did not get banana\")"
   ]
  },
  {
   "cell_type": "code",
   "execution_count": 10,
   "id": "247a9ecd-753e-454e-924b-8d615ee79139",
   "metadata": {},
   "outputs": [
    {
     "name": "stdout",
     "output_type": "stream",
     "text": [
      "[3,3,1]\t[0,0,0]\n",
      "[3,1,0]\t[0,2,1]\n",
      "[3,2,1]\t[0,1,0]\n",
      "[3,0,0]\t[0,3,1]\n",
      "[3,1,1]\t[0,2,0]\n",
      "[1,1,0]\t[2,2,1]\n",
      "[2,2,1]\t[1,1,0]\n",
      "[0,2,0]\t[3,1,1]\n",
      "[0,3,1]\t[3,0,0]\n",
      "[0,1,0]\t[3,2,1]\n",
      "[1,1,1]\t[2,2,0]\n",
      "[0,0,0]\t[3,3,1]\n"
     ]
    }
   ],
   "source": [
    "def isvalid(state):\n",
    "    mleft,cleft,_=state\n",
    "    mright=3-mleft\n",
    "    cright=3-cleft\n",
    "    if mleft>=0 and mright>=0 and cleft>=0 and cright>=0:\n",
    "        if (mleft==0 or mleft>=cleft) and (mright==0 or mright>=cright):\n",
    "            return True\n",
    "    return False\n",
    "def display(state):\n",
    "    mleft,cleft,boat=state\n",
    "    mright=3-mleft\n",
    "    cright=3-cleft\n",
    "    print(f'[{mleft},{cleft},{boat}]\\t[{mright},{cright},{1-boat}]')\n",
    "def getnext(state):\n",
    "    mis,can,boat=state\n",
    "    nextstate=[]\n",
    "    if boat==1:\n",
    "        if mis>0:\n",
    "            nextstate.append((-1,0))\n",
    "        if mis>1:\n",
    "            nextstate.append((-2,0))\n",
    "        if can>0:\n",
    "            nextstate.append((0,-1))\n",
    "        if can>1:\n",
    "            nextstate.append((0,-2))\n",
    "        if mis>0 and can>0:\n",
    "            nextstate.append((-1,-1))\n",
    "    else:\n",
    "        mis=3-mis\n",
    "        can=3-can\n",
    "        if mis>0:\n",
    "            nextstate.append((1,0))\n",
    "        if mis>1:\n",
    "            nextstate.append((2,0))\n",
    "        if can>0:\n",
    "            nextstate.append((0,1))\n",
    "        if can>1:\n",
    "            nextstate.append((0,2))\n",
    "        if mis>0 and can>0:\n",
    "            nextstate.append((1,1))\n",
    "    return nextstate\n",
    "def bfs():\n",
    "    initial=(3,3,1)\n",
    "    goal=(0,0,0)\n",
    "    queue=[(initial,[])]\n",
    "    visited=set()\n",
    "    while queue:\n",
    "        current,path=queue.pop(0)\n",
    "        if current==goal:\n",
    "            return path+[current]\n",
    "        if current not in visited:\n",
    "            visited.add(current)\n",
    "            for move in getnext(current):\n",
    "                new=(current[0]+move[0],current[1]+move[1],1-current[2])\n",
    "                if isvalid(new):\n",
    "                    queue.append((new,path+[current]))\n",
    "    return None\n",
    "def solve():\n",
    "    states=bfs()\n",
    "    if states:\n",
    "        for i in states:\n",
    "            display(i)\n",
    "    else:\n",
    "        print(\"No solution\")\n",
    "solve()"
   ]
  },
  {
   "cell_type": "code",
   "execution_count": 17,
   "id": "eeb66422-5490-451a-a7e2-84d16fd052f6",
   "metadata": {},
   "outputs": [
    {
     "name": "stdout",
     "output_type": "stream",
     "text": [
      "0 0 1 0 \n",
      "1 0 0 0 \n",
      "0 0 0 1 \n",
      "0 1 0 0 \n"
     ]
    }
   ],
   "source": [
    "global n\n",
    "n=4\n",
    "def issafe(board,row,col):\n",
    "    for i in range(n):\n",
    "        if board[row][i]==1:\n",
    "            return False\n",
    "    for i,j in zip(range(row,-1,-1),range(col,-1,-1)):\n",
    "        if board[i][j]==1:\n",
    "            return False\n",
    "    for i,j in zip(range(row,n,1),range(col,-1,-1)):\n",
    "        if board[i][j]==1:\n",
    "            return False\n",
    "    return True\n",
    "def solvenq(board,col):\n",
    "    if col>=n:\n",
    "        return True\n",
    "    for i in range(n):\n",
    "        if issafe(board,i,col):\n",
    "            board[i][col]=1\n",
    "            if(solvenq(board,col+1)):\n",
    "                return True\n",
    "            board[i][col]=0\n",
    "    return False\n",
    "def solve():\n",
    "    board=[[0,0,0,0],[0,0,0,0],[0,0,0,0],[0,0,0,0]]\n",
    "    if solvenq(board,0):\n",
    "        for i in range(n):\n",
    "            for j in range(n):\n",
    "                print(board[i][j],end=\" \")\n",
    "            print()\n",
    "    else:\n",
    "        print(solvenq(board,0))\n",
    "solve()"
   ]
  }
 ],
 "metadata": {
  "kernelspec": {
   "display_name": "Python 3 (ipykernel)",
   "language": "python",
   "name": "python3"
  },
  "language_info": {
   "codemirror_mode": {
    "name": "ipython",
    "version": 3
   },
   "file_extension": ".py",
   "mimetype": "text/x-python",
   "name": "python",
   "nbconvert_exporter": "python",
   "pygments_lexer": "ipython3",
   "version": "3.13.2"
  }
 },
 "nbformat": 4,
 "nbformat_minor": 5
}
