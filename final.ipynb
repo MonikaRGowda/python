{
 "cells": [
  {
   "cell_type": "code",
   "execution_count": 3,
   "id": "4a7ec2cf-fe5e-47ed-8a0f-1b460af955fa",
   "metadata": {},
   "outputs": [
    {
     "name": "stdout",
     "output_type": "stream",
     "text": [
      "24\n",
      "60\n",
      "32\n"
     ]
    }
   ],
   "source": [
    "list=[24,51,60,32,7]\n",
    "for num in list:\n",
    "    if(num*num % 8==0):\n",
    "        print(num)"
   ]
  },
  {
   "cell_type": "code",
   "execution_count": 4,
   "id": "9747915e-b4d5-474e-b50e-69ec69a3dc28",
   "metadata": {},
   "outputs": [
    {
     "ename": "SyntaxError",
     "evalue": "expected ':' (3522348294.py, line 1)",
     "output_type": "error",
     "traceback": [
      "\u001b[1;36m  Cell \u001b[1;32mIn[4], line 1\u001b[1;36m\u001b[0m\n\u001b[1;33m    if(a>12)\u001b[0m\n\u001b[1;37m            ^\u001b[0m\n\u001b[1;31mSyntaxError\u001b[0m\u001b[1;31m:\u001b[0m expected ':'\n"
     ]
    }
   ],
   "source": [
    "if(a>12)\n",
    "print(\"a>12\")"
   ]
  },
  {
   "cell_type": "code",
   "execution_count": 5,
   "id": "4ebffa3c-26a7-4b7f-b118-6d6d6e2ccda6",
   "metadata": {},
   "outputs": [
    {
     "ename": "IndexError",
     "evalue": "list index out of range",
     "output_type": "error",
     "traceback": [
      "\u001b[1;31m---------------------------------------------------------------------------\u001b[0m",
      "\u001b[1;31mIndexError\u001b[0m                                Traceback (most recent call last)",
      "Cell \u001b[1;32mIn[5], line 2\u001b[0m\n\u001b[0;32m      1\u001b[0m a\u001b[38;5;241m=\u001b[39m[\u001b[38;5;241m1\u001b[39m,\u001b[38;5;241m2\u001b[39m,\u001b[38;5;241m3\u001b[39m]\n\u001b[1;32m----> 2\u001b[0m \u001b[43ma\u001b[49m\u001b[43m[\u001b[49m\u001b[38;5;241;43m5\u001b[39;49m\u001b[43m]\u001b[49m\n",
      "\u001b[1;31mIndexError\u001b[0m: list index out of range"
     ]
    }
   ],
   "source": [
    "a=[1,2,3]\n",
    "a[5]"
   ]
  },
  {
   "cell_type": "code",
   "execution_count": 7,
   "id": "fb0ecb7e-8662-4f7b-81c4-63025cafb11f",
   "metadata": {},
   "outputs": [
    {
     "ename": "ValueError",
     "evalue": "invalid literal for int() with base 10: 'a'",
     "output_type": "error",
     "traceback": [
      "\u001b[1;31m---------------------------------------------------------------------------\u001b[0m",
      "\u001b[1;31mValueError\u001b[0m                                Traceback (most recent call last)",
      "Cell \u001b[1;32mIn[7], line 1\u001b[0m\n\u001b[1;32m----> 1\u001b[0m \u001b[38;5;28;43mint\u001b[39;49m\u001b[43m(\u001b[49m\u001b[38;5;124;43m'\u001b[39;49m\u001b[38;5;124;43ma\u001b[39;49m\u001b[38;5;124;43m'\u001b[39;49m\u001b[43m)\u001b[49m\n",
      "\u001b[1;31mValueError\u001b[0m: invalid literal for int() with base 10: 'a'"
     ]
    }
   ],
   "source": [
    "int('a')"
   ]
  },
  {
   "cell_type": "code",
   "execution_count": 8,
   "id": "7a459473-632e-46c4-a385-a463a11ec9d7",
   "metadata": {},
   "outputs": [
    {
     "ename": "TypeError",
     "evalue": "unsupported operand type(s) for +: 'int' and 'str'",
     "output_type": "error",
     "traceback": [
      "\u001b[1;31m---------------------------------------------------------------------------\u001b[0m",
      "\u001b[1;31mTypeError\u001b[0m                                 Traceback (most recent call last)",
      "Cell \u001b[1;32mIn[8], line 3\u001b[0m\n\u001b[0;32m      1\u001b[0m a\u001b[38;5;241m=\u001b[39m\u001b[38;5;241m2\u001b[39m\n\u001b[0;32m      2\u001b[0m b\u001b[38;5;241m=\u001b[39m\u001b[38;5;124m'\u001b[39m\u001b[38;5;124m3\u001b[39m\u001b[38;5;124m'\u001b[39m\n\u001b[1;32m----> 3\u001b[0m \u001b[43ma\u001b[49m\u001b[38;5;241;43m+\u001b[39;49m\u001b[43mb\u001b[49m\n",
      "\u001b[1;31mTypeError\u001b[0m: unsupported operand type(s) for +: 'int' and 'str'"
     ]
    }
   ],
   "source": [
    "a=2\n",
    "b='3'\n",
    "a+b"
   ]
  },
  {
   "cell_type": "code",
   "execution_count": 11,
   "id": "37717b38-b650-4d4c-b656-dc00c0689556",
   "metadata": {},
   "outputs": [
    {
     "name": "stdout",
     "output_type": "stream",
     "text": [
      "Hello World,What's up\n",
      "p  is present  1  times\n",
      "H  is present  1  times\n",
      "d  is present  1  times\n",
      "l  is present  1  times\n",
      ",  is present  1  times\n",
      "t  is present  1  times\n",
      "'  is present  1  times\n",
      "u  is present  1  times\n",
      "e  is present  1  times\n",
      "a  is present  1  times\n",
      "s  is present  1  times\n",
      "W  is present  1  times\n",
      "h  is present  1  times\n",
      "   is present  1  times\n",
      "o  is present  1  times\n",
      "r  is present  1  times\n"
     ]
    }
   ],
   "source": [
    "str=\"Hello World,What's up\"\n",
    "print(str)\n",
    "str=set(str)\n",
    "for i in str:\n",
    "    c=0\n",
    "    for j in str:\n",
    "        if(j==i):\n",
    "            c+=1\n",
    "    print(i,\" is present \",c,\" times\")"
   ]
  },
  {
   "cell_type": "code",
   "execution_count": 22,
   "id": "b0f4271b-53f6-4cbf-84e3-ed74a2d124e2",
   "metadata": {},
   "outputs": [
    {
     "name": "stdout",
     "output_type": "stream",
     "text": [
      "{'CBI': 'Central Bureau of Investigation', 'FDI': 'Foreign direct investment', 'NIA': 'National investigation agency', 'SSB': 'Service selection board', 'WPA': 'Works Progress administration'}\n",
      "{'CBI': 'Central Bureau of Investigation', 'FDI': 'Foreign direct investment', 'NIA': 'National investigation agency', 'SSB': 'Service selection board', 'WPA': 'Works Progress administration', 'BSE': 'Bomvay Stock Exchange'}\n",
      "{'CBI': 'Central Bureau of Investigation', 'FDI': 'Foreign direct investment', 'NIA': 'National investigation agency', 'SSB': 'social security administration', 'WPA': 'Works Progress administration', 'BSE': 'Bomvay Stock Exchange'}\n",
      "{'CBI': 'Central Bureau of Investigation', 'FDI': 'Foreign direct investment', 'NIA': 'National investigation agency', 'SSB': 'social security administration', 'BSE': 'Bomvay Stock Exchange'}\n",
      "dict_keys(['CBI', 'FDI', 'NIA', 'SSB', 'BSE'])\n",
      "dict_values(['Central Bureau of Investigation', 'Foreign direct investment', 'National investigation agency', 'social security administration', 'Bomvay Stock Exchange'])\n"
     ]
    }
   ],
   "source": [
    "agency={'CBI': 'Central Bureau of Investigation','FDI':'Foreign direct investment','NIA': 'National investigation agency','SSB':'Service selection board','WPA':'Works Progress administration'}\n",
    "print(agency)\n",
    "agency['BSE']='Bomvay Stock Exchange'\n",
    "print(agency)\n",
    "agency.update({'SSB':'social security administration'})\n",
    "print(agency)\n",
    "del agency['WPA']\n",
    "print(agency)\n",
    "print(agency.keys())\n",
    "print(agency.values())"
   ]
  },
  {
   "cell_type": "code",
   "execution_count": 16,
   "id": "9d996775-46b4-4cee-b82c-8ebfd3b55d90",
   "metadata": {},
   "outputs": [
    {
     "name": "stdin",
     "output_type": "stream",
     "text": [
      "Enter number of sides 4\n",
      "Enter length of sides 50\n",
      "Enter colour red\n",
      "Enter fill colour black\n"
     ]
    }
   ],
   "source": [
    "import turtle\n",
    "n=int(input(\"Enter number of sides\"))\n",
    "length=int(input(\"Enter length of sides\"))\n",
    "color=input(\"Enter colour\")\n",
    "fillcolor=input(\"Enter fill colour\")\n",
    "t=turtle.Turtle()\n",
    "t.color(color)\n",
    "t.fillcolor(fillcolor)\n",
    "angle=360/n\n",
    "t.begin_fill()\n",
    "for i in range(n):\n",
    "        t.forward(length)\n",
    "        t.right(angle)\n",
    "t.end_fill()\n",
    "turtle.done()"
   ]
  },
  {
   "cell_type": "code",
   "execution_count": 18,
   "id": "e825af22-4044-4601-a2d1-29ce43cca2af",
   "metadata": {},
   "outputs": [
    {
     "name": "stdin",
     "output_type": "stream",
     "text": [
      "Enter array of numbers 78 65 34 58 14\n"
     ]
    },
    {
     "name": "stdout",
     "output_type": "stream",
     "text": [
      "Sorted Array:\n",
      " [14, 34, 58, 65, 78]\n"
     ]
    }
   ],
   "source": [
    "def mergesort(arr):\n",
    "    if len(arr)<=1:\n",
    "        return arr\n",
    "    else:\n",
    "        mid=len(arr)//2\n",
    "        left=arr[:mid]\n",
    "        right=arr[mid:]\n",
    "        left=mergesort(left)\n",
    "        right=mergesort(right)\n",
    "        return merge(left,right)\n",
    "def merge(arr1,arr2):\n",
    "    i,j=0,0\n",
    "    res=[]\n",
    "    while i<len(arr1) and j<len(arr2):\n",
    "        if arr1[i]<arr2[j]:\n",
    "            res.append(arr1[i])\n",
    "            i+=1\n",
    "        else:\n",
    "            res.append(arr2[j])\n",
    "            j+=1\n",
    "    res.extend(arr1[i:])\n",
    "    res.extend(arr2[j:])\n",
    "    return res\n",
    "    \n",
    "arr=input(\"Enter array of numbers\")\n",
    "arr=[int(x) for x in  arr.split()]\n",
    "sortarr=mergesort(arr)\n",
    "print(\"Sorted Array:\\n\",sortarr)"
   ]
  },
  {
   "cell_type": "code",
   "execution_count": 10,
   "id": "d7da1daa-e9b3-4800-8f02-d48a0e0ef83c",
   "metadata": {},
   "outputs": [
    {
     "name": "stdin",
     "output_type": "stream",
     "text": [
      "Enter array of numbers 12 34 56 67 78 89\n",
      "Enter key to be searched 56\n"
     ]
    },
    {
     "name": "stdout",
     "output_type": "stream",
     "text": [
      "Key found at  3\n"
     ]
    }
   ],
   "source": [
    "def binary(arr,key):\n",
    "     i=0\n",
    "     j=len(arr)-1\n",
    "     while(i<=j):\n",
    "        mid=(i+j)//2\n",
    "        if(arr[mid]==key):\n",
    "            return mid+1\n",
    "        else:\n",
    "            if(key<arr[mid]):\n",
    "                j=mid-1\n",
    "            else:\n",
    "                i=mid+1\n",
    "     return -1\n",
    "arr=input(\"Enter array of numbers\")\n",
    "arr=[int(x) for x in  arr.split()]\n",
    "key=int(input(\"Enter key to be searched\"))\n",
    "index=binary(arr,key)\n",
    "if(index==-1):\n",
    "    print(\"Key not found\")\n",
    "else:\n",
    "    print(\"Key found at \",index)\n",
    "    "
   ]
  },
  {
   "cell_type": "code",
   "execution_count": 12,
   "id": "64006f26-c6bb-4c47-b6a1-6ced3641005f",
   "metadata": {},
   "outputs": [
    {
     "name": "stdin",
     "output_type": "stream",
     "text": [
      "Enter hourly wage: 800\n",
      "enter no.of hours worked 58\n"
     ]
    },
    {
     "name": "stdout",
     "output_type": "stream",
     "text": [
      "Pay= 69600.0\n"
     ]
    }
   ],
   "source": [
    "hwage=int(input(\"Enter hourly wage:\"))\n",
    "hrs=int(input(\"enter no.of hours worked\"))\n",
    "if(hrs<=40):\n",
    "    pay=hrs*hwage\n",
    "elif(hrs>40 and hrs<=60):\n",
    "    pay=hwage*hrs*1.5\n",
    "else:\n",
    "    pay=hwage*2*hrs\n",
    "print(\"Pay=\",pay)"
   ]
  },
  {
   "cell_type": "code",
   "execution_count": 3,
   "id": "3b596e37-5f90-4ba2-84b2-e5732e964f54",
   "metadata": {},
   "outputs": [
    {
     "name": "stdin",
     "output_type": "stream",
     "text": [
      "Enter opening balance 3456\n"
     ]
    },
    {
     "name": "stdout",
     "output_type": "stream",
     "text": [
      "1.Deposit\n",
      "2.Withdraw\n",
      "3.Balance\n",
      "4.Exit\n"
     ]
    },
    {
     "name": "stdin",
     "output_type": "stream",
     "text": [
      "Enter choice 1\n",
      "Enter amount 6789\n"
     ]
    },
    {
     "name": "stdout",
     "output_type": "stream",
     "text": [
      "6789  deposited to account successfully\n"
     ]
    },
    {
     "name": "stdin",
     "output_type": "stream",
     "text": [
      "Enter choice 2\n",
      "Enter amount 45678\n"
     ]
    },
    {
     "name": "stdout",
     "output_type": "stream",
     "text": [
      "45678  withdrawed from account successfully\n"
     ]
    },
    {
     "name": "stdin",
     "output_type": "stream",
     "text": [
      "Enter choice 3\n"
     ]
    },
    {
     "name": "stdout",
     "output_type": "stream",
     "text": [
      "Available Balance: -35433\n"
     ]
    },
    {
     "name": "stdin",
     "output_type": "stream",
     "text": [
      "Enter choice 4\n"
     ]
    }
   ],
   "source": [
    "class account:\n",
    "    def __init__(self,balance=0):\n",
    "        self.balance=balance\n",
    "    def withdraw(self,amount):\n",
    "        self.balance-=amount\n",
    "        print(amount,\" withdrawed from account successfully\")\n",
    "    def deposit(self,amount):\n",
    "        self.balance+=amount\n",
    "        print(amount,\" deposited to account successfully\")\n",
    "    def bal(self):\n",
    "        print(\"Available Balance:\",self.balance)\n",
    "start=int(input('Enter opening balance'))\n",
    "ac=account(start)\n",
    "print('1.Deposit\\n2.Withdraw\\n3.Balance\\n4.Exit')\n",
    "i=1\n",
    "while i:\n",
    "    ch=int(input('Enter choice'))\n",
    "    if(ch==1):\n",
    "        amt=int(input('Enter amount'))\n",
    "        ac.deposit(amt)\n",
    "    if(ch==2):\n",
    "        amt=int(input('Enter amount'))\n",
    "        ac.withdraw(amt)\n",
    "    if ch==3:\n",
    "        ac.bal()\n",
    "    if(ch==4):\n",
    "        i=0"
   ]
  },
  {
   "cell_type": "code",
   "execution_count": 5,
   "id": "06553f06-bf25-4a36-894f-1df631aba7dc",
   "metadata": {},
   "outputs": [
    {
     "name": "stdout",
     "output_type": "stream",
     "text": [
      "1.View Bikes\n",
      "2.Rent Bikes\n",
      "3.Total Bill\n",
      "4.Exit\n"
     ]
    },
    {
     "name": "stdin",
     "output_type": "stream",
     "text": [
      "Enter choice: 1\n"
     ]
    },
    {
     "name": "stdout",
     "output_type": "stream",
     "text": [
      "['MTB', 'Geared', 'Non-Geared', 'With Training Wheels', 'For Trial Riding']\n"
     ]
    },
    {
     "name": "stdin",
     "output_type": "stream",
     "text": [
      "Enter choice: 2\n"
     ]
    },
    {
     "name": "stdout",
     "output_type": "stream",
     "text": [
      "1.Hourly rent\n",
      "2.Daily rent\n",
      "3.Weekly rent\n"
     ]
    },
    {
     "name": "stdin",
     "output_type": "stream",
     "text": [
      "Enter choice 2\n",
      "Enter choice: 3\n",
      "Enter no. of bikes 4\n",
      "Enter no. of days 3\n",
      "Do you want a family pack offer of 30% discount?yes-y no-n y\n"
     ]
    },
    {
     "name": "stdout",
     "output_type": "stream",
     "text": [
      "Total Bill: 4200.0\n"
     ]
    },
    {
     "name": "stdin",
     "output_type": "stream",
     "text": [
      "Enter choice: 4\n"
     ]
    }
   ],
   "source": [
    "bikes=[\"MTB\", \"Geared\", \"Non-Geared\", \"With Training Wheels\", \"For Trial Riding\"]\n",
    "print('1.View Bikes\\n2.Rent Bikes\\n3.Total Bill\\n4.Exit')\n",
    "i=1\n",
    "while(i):\n",
    "    ch=int(input('Enter choice:'))\n",
    "    if(ch==1):\n",
    "        print(bikes)\n",
    "    if(ch==2):\n",
    "        print('1.Hourly rent\\n2.Daily rent\\n3.Weekly rent')\n",
    "        op=int(input('Enter choice'))\n",
    "    if(ch==3):\n",
    "        n=int(input(\"Enter no. of bikes\"))\n",
    "        if(op==1):\n",
    "            t=int(input(\"Enter no. of hours\"))\n",
    "            bill=t*n*100\n",
    "        elif(op==2):\n",
    "            t=int(input(\"Enter no. of days\"))\n",
    "            bill=t*n*500\n",
    "        elif(op==3):\n",
    "            t=int(input(\"Enter no. of week\"))\n",
    "            bill=t*n*2500\n",
    "        if(n<6 and n>2):\n",
    "            o=input('Do you want a family pack offer of 30% discount?yes-y no-n')\n",
    "            if(o=='y'or o=='Y'):\n",
    "                bill=bill*0.7\n",
    "        print(\"Total Bill:\",bill)\n",
    "    if(ch==4):\n",
    "        i=0   "
   ]
  },
  {
   "cell_type": "code",
   "execution_count": 7,
   "id": "a0732f53-f104-4455-8726-dc5e4c96241d",
   "metadata": {},
   "outputs": [
    {
     "name": "stdin",
     "output_type": "stream",
     "text": [
      "Enter file name: m.txt\n"
     ]
    },
    {
     "name": "stdout",
     "output_type": "stream",
     "text": [
      "no of lines: 2\n",
      "no of words: 5\n",
      "no of characters: 26\n"
     ]
    }
   ],
   "source": [
    "file=input(\"Enter file name:\")\n",
    "nl,nw,nc=0,0,0\n",
    "with open(file,'r') as f:\n",
    "    for s in f:\n",
    "        words=s.split()\n",
    "        nl+=1\n",
    "        nw+=len(words)\n",
    "        nc+=len(s)\n",
    "print('no of lines:',nl)\n",
    "print('no of words:',nw)\n",
    "print('no of characters:',nc)"
   ]
  },
  {
   "cell_type": "code",
   "execution_count": 11,
   "id": "ffcacfe0-fac6-4b83-a6d3-743b49c3ccc4",
   "metadata": {},
   "outputs": [
    {
     "name": "stdout",
     "output_type": "stream",
     "text": [
      "/static/images/icons/wikipedia.png\n",
      "/static/images/mobile/copyright/wikipedia-wordmark-en.svg\n",
      "/static/images/mobile/copyright/wikipedia-tagline-en.svg\n",
      "//upload.wikimedia.org/wikipedia/en/thumb/1/1b/Semi-protection-shackle.svg/20px-Semi-protection-shackle.svg.png\n",
      "//upload.wikimedia.org/wikipedia/commons/thumb/3/3e/The_cricket_legend_Sachin_Tendulkar_at_the_Oval_Maidan_in_Mumbai_During_the_Duke_and_Duchess_of_Cambridge_Visit%2826271019082%29.jpg/220px-The_cricket_legend_Sachin_Tendulkar_at_the_Oval_Maidan_in_Mumbai_During_the_Duke_and_Duchess_of_Cambridge_Visit%2826271019082%29.jpg\n",
      "//upload.wikimedia.org/wikipedia/en/thumb/4/41/Flag_of_India.svg/23px-Flag_of_India.svg.png\n",
      "//upload.wikimedia.org/wikipedia/commons/thumb/4/47/Gold_medal_icon.svg/16px-Gold_medal_icon.svg.png\n",
      "//upload.wikimedia.org/wikipedia/commons/thumb/4/47/Gold_medal_icon.svg/16px-Gold_medal_icon.svg.png\n",
      "//upload.wikimedia.org/wikipedia/commons/thumb/4/47/Gold_medal_icon.svg/16px-Gold_medal_icon.svg.png\n",
      "//upload.wikimedia.org/wikipedia/commons/thumb/4/47/Gold_medal_icon.svg/16px-Gold_medal_icon.svg.png\n",
      "//upload.wikimedia.org/wikipedia/commons/thumb/1/1d/Sachin_Tendulkar_Signature.svg/128px-Sachin_Tendulkar_Signature.svg.png\n",
      "//upload.wikimedia.org/wikipedia/en/thumb/4/41/Flag_of_India.svg/23px-Flag_of_India.svg.png\n",
      "//upload.wikimedia.org/wikipedia/commons/thumb/8/8e/Air_Force_Ensign_of_India.svg/23px-Air_Force_Ensign_of_India.svg.png\n",
      "//upload.wikimedia.org/wikipedia/commons/thumb/8/81/Indian_IAF_OF-5.svg/15px-Indian_IAF_OF-5.svg.png\n",
      "//upload.wikimedia.org/wikipedia/commons/thumb/b/b8/Sachin-Tendulkar_%28cropped%29.jpg/75px-Sachin-Tendulkar_%28cropped%29.jpg\n",
      "//upload.wikimedia.org/wikipedia/commons/thumb/6/65/Sachin_at_the_other_end.jpg/220px-Sachin_at_the_other_end.jpg\n",
      "//upload.wikimedia.org/wikipedia/commons/thumb/6/6e/Tendulkar_closup.jpg/220px-Tendulkar_closup.jpg\n",
      "//upload.wikimedia.org/wikipedia/commons/thumb/5/5b/Tendulkar_goes_to_14%2C000_Test_runs.jpg/600px-Tendulkar_goes_to_14%2C000_Test_runs.jpg\n",
      "//upload.wikimedia.org/wikipedia/commons/thumb/0/03/Historic_Moment_during_2011_Cricket_World_Cup.jpg/220px-Historic_Moment_during_2011_Cricket_World_Cup.jpg\n",
      "//upload.wikimedia.org/wikipedia/commons/thumb/2/28/199Sachin.jpg/220px-199Sachin.jpg\n",
      "//upload.wikimedia.org/wikipedia/commons/thumb/7/7d/Tendulkar_shot.JPG/220px-Tendulkar_shot.JPG\n",
      "//upload.wikimedia.org/wikipedia/commons/thumb/7/72/Master_Blaster_at_work.jpg/220px-Master_Blaster_at_work.jpg\n",
      "//upload.wikimedia.org/wikipedia/commons/thumb/c/cb/Sachin_Tendulkar_bowling_right-arm_leg-spin_26_January_2008.JPG/220px-Sachin_Tendulkar_bowling_right-arm_leg-spin_26_January_2008.JPG\n",
      "//upload.wikimedia.org/wikipedia/commons/thumb/9/99/Sachin_Ramesh_Tendulkar_Wax_Statue_in_Madame_Tussauds_London.jpg/220px-Sachin_Ramesh_Tendulkar_Wax_Statue_in_Madame_Tussauds_London.jpg\n",
      "//upload.wikimedia.org/wikipedia/commons/thumb/d/db/The_President%2C_Smt._Pratibha_Devisingh_Patil_presenting_the_Padma_Vibhushan_to_Shri_Sachin_Ramesh_Tendulkar%2C_famous_cricketer%2C_at_an_Investiture-I_Ceremony%2C_at_Rashtrapati_Bhavan%2C_in_New_Delhi_on_May_05%2C_2008.jpg/220px-thumbnail.jpg\n",
      "//upload.wikimedia.org/wikipedia/commons/thumb/2/28/The_President%2C_Shri_Pranab_Mukherjee_presenting_the_Bharat_Ratna_Awards_2014_to_Shri_Sachin_Ramesh_Tendulkar_at_a_Investiture_ceremony_in_New_Delhi_on_February_4%2C_2014..jpg/220px-thumbnail.jpg\n",
      "//upload.wikimedia.org/wikipedia/commons/thumb/3/33/Padma_Shri_Ribbon.svg/50px-Padma_Shri_Ribbon.svg.png\n",
      "//upload.wikimedia.org/wikipedia/commons/thumb/a/a8/Padma_Vibhushan_Ribbon.svg/50px-Padma_Vibhushan_Ribbon.svg.png\n",
      "//upload.wikimedia.org/wikipedia/commons/thumb/0/00/Flag_of_Group_Captain_%28India%29.svg/50px-Flag_of_Group_Captain_%28India%29.svg.png\n",
      "//upload.wikimedia.org/wikipedia/commons/thumb/e/e2/IND_Bharat_Ratna_BAR.png/50px-IND_Bharat_Ratna_BAR.png\n",
      "//upload.wikimedia.org/wikipedia/commons/thumb/4/41/AUS_Order_of_Australia_%28civil%29_BAR.svg/50px-AUS_Order_of_Australia_%28civil%29_BAR.svg.png\n",
      "//upload.wikimedia.org/wikipedia/commons/thumb/9/98/Sachin_Tendulkar_2013_stamp_of_India_2.jpg/175px-Sachin_Tendulkar_2013_stamp_of_India_2.jpg\n",
      "//upload.wikimedia.org/wikipedia/commons/thumb/6/6c/Sachin_Tendulkar_2013_stamp_of_India.jpg/175px-Sachin_Tendulkar_2013_stamp_of_India.jpg\n",
      "//upload.wikimedia.org/wikipedia/commons/thumb/8/88/Flag_of_Australia_%28converted%29.svg/23px-Flag_of_Australia_%28converted%29.svg.png\n",
      "//upload.wikimedia.org/wikipedia/commons/thumb/1/11/Flag_of_Sri_Lanka.svg/23px-Flag_of_Sri_Lanka.svg.png\n",
      "//upload.wikimedia.org/wikipedia/commons/thumb/a/af/Flag_of_South_Africa.svg/23px-Flag_of_South_Africa.svg.png\n",
      "//upload.wikimedia.org/wikipedia/en/thumb/b/be/Flag_of_England.svg/23px-Flag_of_England.svg.png\n",
      "//upload.wikimedia.org/wikipedia/commons/thumb/3/3e/Flag_of_New_Zealand.svg/23px-Flag_of_New_Zealand.svg.png\n",
      "//upload.wikimedia.org/wikipedia/commons/thumb/1/18/WestIndiesCricketFlagPre1999.svg/23px-WestIndiesCricketFlagPre1999.svg.png\n",
      "//upload.wikimedia.org/wikipedia/commons/thumb/6/6a/Flag_of_Zimbabwe.svg/23px-Flag_of_Zimbabwe.svg.png\n",
      "//upload.wikimedia.org/wikipedia/commons/thumb/3/32/Flag_of_Pakistan.svg/23px-Flag_of_Pakistan.svg.png\n",
      "//upload.wikimedia.org/wikipedia/commons/thumb/f/f9/Flag_of_Bangladesh.svg/23px-Flag_of_Bangladesh.svg.png\n",
      "//upload.wikimedia.org/wikipedia/commons/thumb/4/49/Flag_of_Kenya.svg/23px-Flag_of_Kenya.svg.png\n",
      "//upload.wikimedia.org/wikipedia/commons/thumb/0/00/Flag_of_Namibia.svg/23px-Flag_of_Namibia.svg.png\n",
      "//upload.wikimedia.org/wikipedia/commons/thumb/3/3b/Antu-preferences-desktop-accessibility-32.svg/40px-Antu-preferences-desktop-accessibility-32.svg.png\n",
      "//upload.wikimedia.org/wikipedia/commons/thumb/3/33/Sachin_Tendulkar_graph.svg/900px-Sachin_Tendulkar_graph.svg.png\n",
      "//upload.wikimedia.org/wikipedia/commons/thumb/9/96/Anjali-Sachin.jpg/220px-Anjali-Sachin.jpg\n",
      "//upload.wikimedia.org/wikipedia/commons/thumb/b/bd/Ambox_current_red_Asia_Australia.svg/42px-Ambox_current_red_Asia_Australia.svg.png\n",
      "//upload.wikimedia.org/wikipedia/en/thumb/0/06/Wiktionary-logo-v2.svg/27px-Wiktionary-logo-v2.svg.png\n",
      "//upload.wikimedia.org/wikipedia/en/thumb/4/4a/Commons-logo.svg/20px-Commons-logo.svg.png\n",
      "//upload.wikimedia.org/wikipedia/commons/thumb/2/24/Wikinews-logo.svg/27px-Wikinews-logo.svg.png\n",
      "//upload.wikimedia.org/wikipedia/commons/thumb/f/fa/Wikiquote-logo.svg/23px-Wikiquote-logo.svg.png\n",
      "//upload.wikimedia.org/wikipedia/commons/thumb/4/4c/Wikisource-logo.svg/26px-Wikisource-logo.svg.png\n",
      "//upload.wikimedia.org/wikipedia/commons/thumb/f/ff/Wikidata-logo.svg/27px-Wikidata-logo.svg.png\n",
      "//upload.wikimedia.org/wikipedia/en/thumb/4/41/Flag_of_India.svg/23px-Flag_of_India.svg.png\n",
      "//upload.wikimedia.org/wikipedia/commons/thumb/a/af/Flag_of_South_Africa.svg/23px-Flag_of_South_Africa.svg.png\n",
      "//upload.wikimedia.org/wikipedia/en/thumb/b/be/Flag_of_England.svg/23px-Flag_of_England.svg.png\n",
      "//upload.wikimedia.org/wikipedia/commons/thumb/8/88/Flag_of_Australia_%28converted%29.svg/23px-Flag_of_Australia_%28converted%29.svg.png\n",
      "//upload.wikimedia.org/wikipedia/commons/thumb/8/88/Flag_of_Australia_%28converted%29.svg/23px-Flag_of_Australia_%28converted%29.svg.png\n",
      "//upload.wikimedia.org/wikipedia/commons/thumb/1/18/WestIndiesCricketFlagPre1999.svg/23px-WestIndiesCricketFlagPre1999.svg.png\n",
      "//upload.wikimedia.org/wikipedia/commons/thumb/8/88/Flag_of_Australia_%28converted%29.svg/23px-Flag_of_Australia_%28converted%29.svg.png\n",
      "//upload.wikimedia.org/wikipedia/en/thumb/4/41/Flag_of_India.svg/23px-Flag_of_India.svg.png\n",
      "//upload.wikimedia.org/wikipedia/en/thumb/b/be/Flag_of_England.svg/23px-Flag_of_England.svg.png\n",
      "//upload.wikimedia.org/wikipedia/commons/thumb/1/11/Flag_of_Sri_Lanka.svg/23px-Flag_of_Sri_Lanka.svg.png\n",
      "//upload.wikimedia.org/wikipedia/commons/thumb/8/88/Flag_of_Australia_%28converted%29.svg/23px-Flag_of_Australia_%28converted%29.svg.png\n",
      "//upload.wikimedia.org/wikipedia/commons/thumb/8/88/Flag_of_Australia_%28converted%29.svg/23px-Flag_of_Australia_%28converted%29.svg.png\n",
      "//upload.wikimedia.org/wikipedia/commons/thumb/8/88/Flag_of_Australia_%28converted%29.svg/23px-Flag_of_Australia_%28converted%29.svg.png\n",
      "//upload.wikimedia.org/wikipedia/en/thumb/4/41/Flag_of_India.svg/23px-Flag_of_India.svg.png\n",
      "//upload.wikimedia.org/wikipedia/en/thumb/4/41/Flag_of_India.svg/23px-Flag_of_India.svg.png\n",
      "//upload.wikimedia.org/wikipedia/en/thumb/4/41/Flag_of_India.svg/23px-Flag_of_India.svg.png\n",
      "//upload.wikimedia.org/wikipedia/en/thumb/b/be/Flag_of_England.svg/23px-Flag_of_England.svg.png\n",
      "//upload.wikimedia.org/wikipedia/commons/thumb/3/32/Flag_of_Pakistan.svg/23px-Flag_of_Pakistan.svg.png\n",
      "//upload.wikimedia.org/wikipedia/commons/thumb/3/32/Flag_of_Pakistan.svg/23px-Flag_of_Pakistan.svg.png\n",
      "//upload.wikimedia.org/wikipedia/commons/thumb/8/88/Flag_of_Australia_%28converted%29.svg/23px-Flag_of_Australia_%28converted%29.svg.png\n",
      "//upload.wikimedia.org/wikipedia/commons/thumb/8/88/Flag_of_Australia_%28converted%29.svg/23px-Flag_of_Australia_%28converted%29.svg.png\n",
      "//upload.wikimedia.org/wikipedia/commons/thumb/8/88/Flag_of_Australia_%28converted%29.svg/23px-Flag_of_Australia_%28converted%29.svg.png\n",
      "//upload.wikimedia.org/wikipedia/en/thumb/4/41/Flag_of_India.svg/23px-Flag_of_India.svg.png\n",
      "//upload.wikimedia.org/wikipedia/commons/thumb/1/18/WestIndiesCricketFlagPre1999.svg/23px-WestIndiesCricketFlagPre1999.svg.png\n",
      "//upload.wikimedia.org/wikipedia/commons/thumb/1/18/WestIndiesCricketFlagPre1999.svg/23px-WestIndiesCricketFlagPre1999.svg.png\n",
      "//upload.wikimedia.org/wikipedia/commons/thumb/8/88/Flag_of_Australia_%28converted%29.svg/23px-Flag_of_Australia_%28converted%29.svg.png\n",
      "//upload.wikimedia.org/wikipedia/commons/thumb/8/88/Flag_of_Australia_%28converted%29.svg/23px-Flag_of_Australia_%28converted%29.svg.png\n",
      "//upload.wikimedia.org/wikipedia/commons/thumb/1/18/WestIndiesCricketFlagPre1999.svg/23px-WestIndiesCricketFlagPre1999.svg.png\n",
      "//upload.wikimedia.org/wikipedia/en/thumb/4/41/Flag_of_India.svg/23px-Flag_of_India.svg.png\n",
      "//upload.wikimedia.org/wikipedia/en/thumb/b/be/Flag_of_England.svg/23px-Flag_of_England.svg.png\n",
      "//upload.wikimedia.org/wikipedia/commons/thumb/1/18/WestIndiesCricketFlagPre1999.svg/23px-WestIndiesCricketFlagPre1999.svg.png\n",
      "//upload.wikimedia.org/wikipedia/commons/thumb/1/18/WestIndiesCricketFlagPre1999.svg/23px-WestIndiesCricketFlagPre1999.svg.png\n",
      "//upload.wikimedia.org/wikipedia/en/thumb/b/be/Flag_of_England.svg/23px-Flag_of_England.svg.png\n",
      "//upload.wikimedia.org/wikipedia/en/thumb/4/41/Flag_of_India.svg/23px-Flag_of_India.svg.png\n",
      "//upload.wikimedia.org/wikipedia/en/thumb/b/be/Flag_of_England.svg/23px-Flag_of_England.svg.png\n",
      "//upload.wikimedia.org/wikipedia/en/thumb/4/41/Flag_of_India.svg/23px-Flag_of_India.svg.png\n",
      "//upload.wikimedia.org/wikipedia/commons/thumb/1/18/WestIndiesCricketFlagPre1999.svg/23px-WestIndiesCricketFlagPre1999.svg.png\n",
      "//upload.wikimedia.org/wikipedia/en/thumb/e/e2/Symbol_portal_class.svg/16px-Symbol_portal_class.svg.png\n",
      "//upload.wikimedia.org/wikipedia/en/thumb/9/96/Symbol_category_class.svg/16px-Symbol_category_class.svg.png\n",
      "//upload.wikimedia.org/wikipedia/commons/thumb/3/37/People_icon.svg/16px-People_icon.svg.png\n",
      "//upload.wikimedia.org/wikipedia/commons/thumb/8/88/Flag_of_Australia_%28converted%29.svg/23px-Flag_of_Australia_%28converted%29.svg.png\n",
      "//upload.wikimedia.org/wikipedia/en/thumb/b/be/Flag_of_England.svg/23px-Flag_of_England.svg.png\n",
      "//upload.wikimedia.org/wikipedia/en/thumb/4/41/Flag_of_India.svg/23px-Flag_of_India.svg.png\n",
      "//upload.wikimedia.org/wikipedia/commons/thumb/3/3e/Flag_of_New_Zealand.svg/23px-Flag_of_New_Zealand.svg.png\n",
      "//upload.wikimedia.org/wikipedia/commons/thumb/3/32/Flag_of_Pakistan.svg/23px-Flag_of_Pakistan.svg.png\n",
      "//upload.wikimedia.org/wikipedia/commons/thumb/a/af/Flag_of_South_Africa.svg/23px-Flag_of_South_Africa.svg.png\n",
      "//upload.wikimedia.org/wikipedia/commons/thumb/1/11/Flag_of_Sri_Lanka.svg/23px-Flag_of_Sri_Lanka.svg.png\n",
      "//upload.wikimedia.org/wikipedia/commons/thumb/1/18/WestIndiesCricketFlagPre1999.svg/23px-WestIndiesCricketFlagPre1999.svg.png\n",
      "//upload.wikimedia.org/wikipedia/commons/thumb/6/6a/Flag_of_Zimbabwe.svg/23px-Flag_of_Zimbabwe.svg.png\n",
      "//upload.wikimedia.org/wikipedia/commons/thumb/8/88/Flag_of_Australia_%28converted%29.svg/23px-Flag_of_Australia_%28converted%29.svg.png\n",
      "//upload.wikimedia.org/wikipedia/en/thumb/b/be/Flag_of_England.svg/23px-Flag_of_England.svg.png\n",
      "//upload.wikimedia.org/wikipedia/en/thumb/4/41/Flag_of_India.svg/23px-Flag_of_India.svg.png\n",
      "//upload.wikimedia.org/wikipedia/commons/thumb/3/32/Flag_of_Pakistan.svg/23px-Flag_of_Pakistan.svg.png\n",
      "//upload.wikimedia.org/wikipedia/commons/thumb/a/af/Flag_of_South_Africa.svg/23px-Flag_of_South_Africa.svg.png\n",
      "//upload.wikimedia.org/wikipedia/commons/thumb/1/11/Flag_of_Sri_Lanka.svg/23px-Flag_of_Sri_Lanka.svg.png\n",
      "//upload.wikimedia.org/wikipedia/commons/thumb/1/18/WestIndiesCricketFlagPre1999.svg/23px-WestIndiesCricketFlagPre1999.svg.png\n",
      "//upload.wikimedia.org/wikipedia/commons/thumb/8/88/Flag_of_Australia_%28converted%29.svg/23px-Flag_of_Australia_%28converted%29.svg.png\n",
      "//upload.wikimedia.org/wikipedia/en/thumb/4/41/Flag_of_India.svg/23px-Flag_of_India.svg.png\n",
      "//upload.wikimedia.org/wikipedia/commons/thumb/3/32/Flag_of_Pakistan.svg/23px-Flag_of_Pakistan.svg.png\n",
      "//upload.wikimedia.org/wikipedia/commons/thumb/a/af/Flag_of_South_Africa.svg/23px-Flag_of_South_Africa.svg.png\n",
      "//upload.wikimedia.org/wikipedia/commons/thumb/1/11/Flag_of_Sri_Lanka.svg/23px-Flag_of_Sri_Lanka.svg.png\n",
      "//upload.wikimedia.org/wikipedia/commons/thumb/1/18/WestIndiesCricketFlagPre1999.svg/23px-WestIndiesCricketFlagPre1999.svg.png\n",
      "//upload.wikimedia.org/wikipedia/en/thumb/4/41/Flag_of_India.svg/50px-Flag_of_India.svg.png\n",
      "//upload.wikimedia.org/wikipedia/en/thumb/4/41/Flag_of_India.svg/50px-Flag_of_India.svg.png\n",
      "//upload.wikimedia.org/wikipedia/en/thumb/4/41/Flag_of_India.svg/50px-Flag_of_India.svg.png\n",
      "//upload.wikimedia.org/wikipedia/en/thumb/4/41/Flag_of_India.svg/50px-Flag_of_India.svg.png\n",
      "//upload.wikimedia.org/wikipedia/en/thumb/4/41/Flag_of_India.svg/50px-Flag_of_India.svg.png\n",
      "//upload.wikimedia.org/wikipedia/en/thumb/4/41/Flag_of_India.svg/50px-Flag_of_India.svg.png\n",
      "//upload.wikimedia.org/wikipedia/en/thumb/4/41/Flag_of_India.svg/50px-Flag_of_India.svg.png\n",
      "//upload.wikimedia.org/wikipedia/en/thumb/4/41/Flag_of_India.svg/50px-Flag_of_India.svg.png\n",
      "//upload.wikimedia.org/wikipedia/en/thumb/4/41/Flag_of_India.svg/50px-Flag_of_India.svg.png\n",
      "//upload.wikimedia.org/wikipedia/en/thumb/6/69/P_vip.svg/19px-P_vip.svg.png\n",
      "//upload.wikimedia.org/wikipedia/en/thumb/4/41/Flag_of_India.svg/21px-Flag_of_India.svg.png\n",
      "//upload.wikimedia.org/wikipedia/commons/thumb/b/b0/Cricketball.png/19px-Cricketball.png\n",
      "//upload.wikimedia.org/wikipedia/commons/thumb/9/95/Sports_icon.png/21px-Sports_icon.png\n",
      "//upload.wikimedia.org/wikipedia/en/thumb/8/8a/OOjs_UI_icon_edit-ltr-progressive.svg/10px-OOjs_UI_icon_edit-ltr-progressive.svg.png\n",
      "https://login.wikimedia.org/wiki/Special:CentralAutoLogin/start?useformat=desktop&type=1x1&usesul3=0\n",
      "/static/images/footer/wikimedia-button.svg\n",
      "/w/resources/assets/poweredby_mediawiki.svg\n"
     ]
    }
   ],
   "source": [
    "import requests\n",
    "from bs4 import BeautifulSoup\n",
    "url='https://en.wikipedia.org/wiki/Sachin_Tendulkar'\n",
    "response=requests.get(url)\n",
    "soup=BeautifulSoup(response.content,'html.parser')\n",
    "imagelink=[img['src'] for img in soup.find_all('img')]\n",
    "for img in imagelink:\n",
    "    print(img)"
   ]
  },
  {
   "cell_type": "code",
   "execution_count": 21,
   "id": "ae8613f4-8142-4e07-8ae2-5696e52cf162",
   "metadata": {},
   "outputs": [
    {
     "name": "stdin",
     "output_type": "stream",
     "text": [
      "Enter year: 1974\n"
     ]
    },
    {
     "name": "stdout",
     "output_type": "stream",
     "text": [
      "1.Sweet Movie(1974)\n",
      "After winning the \"most virgin\" contest, Miss Canada is married to a rich milk tycoon. But she quickly flees the marriage to experience the world around her, full of sweetness and anarchy.\n",
      "2.Kamen Rider X the Movie(1974)\n",
      "A little girl named Sayoko witnesses the murder of an Interpol agent by the G.O.D. kaijin Hercules. Keisuke Jin saves her before Hercules disposes of her. Sayoko tells Keisuke that G.O.D. is targeting an important official named K...\n",
      "3.Flying from the Movie Screen: Inazuman(1974)\n",
      "The insectoid superhero Inazuman fights against the monsters of the Newmanity Empire and the Desper Army in this theatrical episode shot in 3-D.\n",
      "4.Beautiful Movie(1974)\n",
      "N/A\n",
      "5.Movie Stuntmen(1974)\n",
      "Reveals the skills and courage demanded of motion picture stuntmen and shows how they can perform such stunts as flaming car crashes and leaps from cliffs.\n",
      "6.Dearreader: How to Turn a Book Into a Movie(1974)\n",
      "N/A\n",
      "7.Fearful Feature Movie(1974–)\n",
      "A non-hosted horror movie show produced by HSV7, Melbourne, Australia in 1974.\n",
      "8.Monstrous Movie(1974–1983)\n",
      "A non hosted horror movie show.\n",
      "9.Chicken Movie, Chicken Piece(1974)\n",
      "N/A\n"
     ]
    }
   ],
   "source": [
    "import requests\n",
    "def fetch(year,apikey):\n",
    "    url=f'http://www.omdbapi.com/?s=movie&y={year}&apikey={apikey}'\n",
    "    response=requests.get(url)\n",
    "    data=response.json()\n",
    "    movie=data.get('Search',[])\n",
    "    for i,movie in enumerate(movie[:10]):\n",
    "        myear=movie['Year']\n",
    "        title=movie['Title']\n",
    "        imdb=movie['imdbID']\n",
    "        movieurl=f'http://www.omdbapi.com/?i={imdb}&apikey={apikey}'\n",
    "        movieresponse=requests.get(movieurl)\n",
    "        moviedetail=movieresponse.json()\n",
    "        summary=moviedetail.get('Plot','No Summary available.')\n",
    "        print(f'{i+1}.{title}({myear})\\n{summary}')\n",
    "apikey='ce690a21'\n",
    "year=int(input('Enter year:'))\n",
    "fetch(year,apikey)"
   ]
  },
  {
   "cell_type": "code",
   "execution_count": 3,
   "id": "0db6b3e3-a046-460a-b90f-5a37919fba5f",
   "metadata": {},
   "outputs": [],
   "source": [
    "import turtle\n",
    "def tri(t,x,y,size,depth,changedepth):\n",
    "    if depth==0:\n",
    "        t.penup()\n",
    "        t.goto(x,y)\n",
    "        t.pendown()\n",
    "        for i in range(3):\n",
    "            t.forward(size)\n",
    "            t.left(120)\n",
    "    else:\n",
    "        tri(t,x,y,size/2,depth-1,changedepth)\n",
    "        tri(t,x+(size/2),y,size/2,depth-1,changedepth)\n",
    "        tri(t,x+(size/4),y+(size/2)*(3**0.5)/2,size/2,depth-1,changedepth)\n",
    "        if changedepth==depth:\n",
    "            t.fillcolor('Magenta')\n",
    "            t.begin_fill()\n",
    "            tri(t,x+(size/4),y+(size/2)*(3**0.5)/2,size/2,0,changedepth)\n",
    "            t.end_fill()\n",
    "            t.fillcolor('Red')\n",
    "            t.begin_fill()\n",
    "            tri(t,x,y,size/2,0,changedepth)\n",
    "            t.end_fill()\n",
    "            t.fillcolor('Blue')\n",
    "            t.begin_fill()\n",
    "            tri(t,x+(size/2),y,size/2,0,changedepth)\n",
    "            t.end_fill()\n",
    "t=turtle.Turtle()\n",
    "t.speed(0)\n",
    "tri(t,-200,-200,300,4,1)\n",
    "turtle.done()"
   ]
  },
  {
   "cell_type": "code",
   "execution_count": 5,
   "id": "f9084edf-9218-4e38-a6a7-91156cf21c3f",
   "metadata": {},
   "outputs": [],
   "source": [
    "import turtle\n",
    "def snow(t,x1,y1,x2,y2,depth):\n",
    "    if depth==0:\n",
    "        t.penup()\n",
    "        t.goto(x1,y1)\n",
    "        t.pendown()\n",
    "        t.goto(x2,y2)\n",
    "    else:\n",
    "        xa=x1+(x2-x1)/3\n",
    "        xb=x1+2*(x2-x1)/3\n",
    "        xc=(x1+x2)/2-(y2-y1)*(3**0.5)/6\n",
    "        ya=y1+(y2-y1)/3\n",
    "        yb=y1+2*(y2-y1)/3\n",
    "        yc=(y1+y2)/2+(x2-x1)*(3**0.5)/6\n",
    "        snow(t,x1,y1,xa,ya,depth-1)\n",
    "        snow(t,xa,ya,xc,yc,depth-1)\n",
    "        snow(t,xc,yc,xb,yb,depth-1)\n",
    "        snow(t,xb,yb,x2,y2,depth-1)\n",
    "t=turtle.Turtle()\n",
    "depth=3\n",
    "size=300\n",
    "t.speed(0)\n",
    "x1=-size/2\n",
    "x2=size/2\n",
    "x3=0\n",
    "y1=size*(3**0.5)/6\n",
    "y2=size*(3**0.5)/6\n",
    "y3=-size*(3**0.5)/3\n",
    "snow(t,x1,y1,x2,y2,depth)\n",
    "snow(t,x2,y2,x3,y3,depth)\n",
    "snow(t,x3,y3,x1,y1,depth)\n",
    "turtle.done()"
   ]
  },
  {
   "cell_type": "code",
   "execution_count": 7,
   "id": "4c81358b-563f-4c2b-b8d9-0a6826637194",
   "metadata": {},
   "outputs": [
    {
     "name": "stderr",
     "output_type": "stream",
     "text": [
      "usage: ipykernel_launcher.py [options] [input files]\n",
      "ipykernel_launcher.py: error: unrecognized arguments: -f\n"
     ]
    },
    {
     "ename": "SystemExit",
     "evalue": "2",
     "output_type": "error",
     "traceback": [
      "An exception has occurred, use %tb to see the full traceback.\n",
      "\u001b[1;31mSystemExit\u001b[0m\u001b[1;31m:\u001b[0m 2\n"
     ]
    }
   ],
   "source": [
    "from mrjob.job import MRJob\n",
    "class movie(MRJob):\n",
    "    def mapper(self, _,line):\n",
    "        twitter,title,genre=line.split('::')\n",
    "        yield title,genre\n",
    "    def reducer(self,genre,movies):\n",
    "        movie_list=list(movies)\n",
    "        for i in range(len(movie_list)):\n",
    "            for j in range(i+1,len(movie_list)):\n",
    "                score=self.calc(movie_list[i],movie_list[j])\n",
    "                yield [movie_list[i],movie_list[j]],score\n",
    "    def calc(self,movie1,movie2):\n",
    "        movie1=movie1.lower()\n",
    "        movie2=movie2.lower()\n",
    "        ch=set(movie1)&set(movie2)\n",
    "        score=len(ch)\n",
    "        return score\n",
    "if __name__=='__main__':\n",
    "        movie.run()"
   ]
  },
  {
   "cell_type": "code",
   "execution_count": 30,
   "id": "66c51365-d1cb-403a-9a42-7fc6aa9ea5fd",
   "metadata": {},
   "outputs": [],
   "source": [
    "import tkinter as tk\n",
    "def calc():\n",
    "    h=float(height.get())/100\n",
    "    w=float(weight.get())\n",
    "    bmi=round(w/(h**2),2)\n",
    "    bmilabel.configure(text=f'BMI:{bmi}')\n",
    "root=tk.Tk()\n",
    "root.title('BMI Calculator')\n",
    "heightlabel=tk.Label(root,text='Height in cm')\n",
    "heightlabel.grid(row=0,column=0)\n",
    "height=tk.Entry(root)\n",
    "height.grid(row=0,column=1)\n",
    "weightlabel=tk.Label(root,text='Weight in kg')\n",
    "weightlabel.grid(row=1,column=0)\n",
    "weight=tk.Entry(root)\n",
    "weight.grid(row=1,column=1)\n",
    "bmi=tk.Button(root,text=\"Calculate BMI\",command=calc)\n",
    "bmi.grid(row=2,columnspan=2)\n",
    "bmilabel=tk.Label(root,text='BMI:')\n",
    "bmilabel.grid(row=3,columnspan=2)\n",
    "root.mainloop()"
   ]
  }
 ],
 "metadata": {
  "kernelspec": {
   "display_name": "Python 3 (ipykernel)",
   "language": "python",
   "name": "python3"
  },
  "language_info": {
   "codemirror_mode": {
    "name": "ipython",
    "version": 3
   },
   "file_extension": ".py",
   "mimetype": "text/x-python",
   "name": "python",
   "nbconvert_exporter": "python",
   "pygments_lexer": "ipython3",
   "version": "3.13.2"
  }
 },
 "nbformat": 4,
 "nbformat_minor": 5
}
